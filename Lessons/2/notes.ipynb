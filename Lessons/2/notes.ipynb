{
 "cells": [
  {
   "cell_type": "markdown",
   "id": "94e93d48",
   "metadata": {},
   "source": [
    "# Komentarze"
   ]
  },
  {
   "cell_type": "code",
   "execution_count": 1,
   "id": "b69b9e7d",
   "metadata": {},
   "outputs": [],
   "source": [
    "# To jest komentarz w Pythonie\n",
    "\n",
    "\"\"\"\n",
    "A to jest komentarz na wiele linii.\n",
    "Mogę tu opisać, co robi ten skrypt.\n",
    "\"\"\"\n",
    "\n",
    "pass # pass - wykorzystane, aby komórka nie wyświetliła komentarza w output"
   ]
  },
  {
   "cell_type": "markdown",
   "id": "471787fc",
   "metadata": {},
   "source": [
    "# Nazwy zmiennych"
   ]
  },
  {
   "cell_type": "code",
   "execution_count": 2,
   "id": "b4e71077",
   "metadata": {},
   "outputs": [],
   "source": [
    "# TODO Na zajęciach"
   ]
  },
  {
   "cell_type": "markdown",
   "id": "cb652edb",
   "metadata": {},
   "source": [
    "# Typy danych"
   ]
  },
  {
   "cell_type": "code",
   "execution_count": 3,
   "id": "be75f91a",
   "metadata": {},
   "outputs": [],
   "source": [
    "# TODO Na zajęciach"
   ]
  },
  {
   "cell_type": "code",
   "execution_count": 4,
   "id": "9594ae39",
   "metadata": {},
   "outputs": [
    {
     "name": "stdout",
     "output_type": "stream",
     "text": [
      "<class 'int'>\n",
      "<class 'str'>\n"
     ]
    }
   ],
   "source": [
    "# Możemy wypisać typ danej zmiennej\n",
    "\n",
    "test_typu = 132\n",
    "\n",
    "print(type(test_typu))\n",
    "\n",
    "test_typu = \"To jest string\"\n",
    "\n",
    "print(type(test_typu))"
   ]
  },
  {
   "cell_type": "markdown",
   "id": "8f776865",
   "metadata": {},
   "source": [
    "# Konwersja typów danych\n",
    "\n",
    "- `int`\n",
    "- `float`\n",
    "- `str`\n",
    "- `bool`"
   ]
  },
  {
   "cell_type": "code",
   "execution_count": 5,
   "id": "9e7526b7",
   "metadata": {},
   "outputs": [
    {
     "name": "stdout",
     "output_type": "stream",
     "text": [
      "3\n"
     ]
    }
   ],
   "source": [
    "liczba_rzeczywista = 3.14\n",
    "\n",
    "print(int(liczba_rzeczywista))  # Konwersja liczby rzeczywistej na liczbę całkowitą"
   ]
  },
  {
   "cell_type": "code",
   "execution_count": 6,
   "id": "e063a84c",
   "metadata": {},
   "outputs": [
    {
     "name": "stdout",
     "output_type": "stream",
     "text": [
      "True\n",
      "False\n",
      "1\n",
      "0\n"
     ]
    }
   ],
   "source": [
    "prawda = True  # Zmienna logiczna\n",
    "falsz = False  # Zmienna logiczna\n",
    "print(prawda)  # Wyświetlenie wartości zmiennej logicznej\n",
    "print(falsz)  # Wyświetlenie wartości zmiennej logicznej\n",
    "\n",
    "print(int(prawda))  # Konwersja wartości logicznej na liczbę całkowitą\n",
    "print(int(falsz))  # Konwersja wartości logicznej na liczbę całkowitą"
   ]
  },
  {
   "cell_type": "code",
   "execution_count": 7,
   "id": "fe6d528b",
   "metadata": {},
   "outputs": [
    {
     "name": "stdout",
     "output_type": "stream",
     "text": [
      "123\n",
      "<class 'int'>\n"
     ]
    }
   ],
   "source": [
    "# Tekst na liczbę\n",
    "\n",
    "tekst = \"123\"\n",
    "liczba = int(tekst)  # Konwersja tekstu na liczbę całkowitą\n",
    "print(liczba)  # Wyświetlenie wartości liczby po konwersji\n",
    "print(type(liczba))  # Wyświetlenie typu zmiennej liczba"
   ]
  },
  {
   "cell_type": "code",
   "execution_count": 8,
   "id": "8071ef02",
   "metadata": {},
   "outputs": [
    {
     "ename": "ValueError",
     "evalue": "invalid literal for int() with base 10: '123.32'",
     "output_type": "error",
     "traceback": [
      "\u001b[31m---------------------------------------------------------------------------\u001b[39m",
      "\u001b[31mValueError\u001b[39m                                Traceback (most recent call last)",
      "\u001b[36mCell\u001b[39m\u001b[36m \u001b[39m\u001b[32mIn[8]\u001b[39m\u001b[32m, line 4\u001b[39m\n\u001b[32m      1\u001b[39m \u001b[38;5;66;03m# Tekst na liczbę - błędna konwersja\u001b[39;00m\n\u001b[32m      3\u001b[39m tekst = \u001b[33m\"\u001b[39m\u001b[33m123.32\u001b[39m\u001b[33m\"\u001b[39m\n\u001b[32m----> \u001b[39m\u001b[32m4\u001b[39m liczba = \u001b[38;5;28;43mint\u001b[39;49m\u001b[43m(\u001b[49m\u001b[43mtekst\u001b[49m\u001b[43m)\u001b[49m  \u001b[38;5;66;03m# Próba konwersji tekstu na liczbę całkowitą\u001b[39;00m\n",
      "\u001b[31mValueError\u001b[39m: invalid literal for int() with base 10: '123.32'"
     ]
    }
   ],
   "source": [
    "# Tekst na liczbę - błędna konwersja\n",
    "\n",
    "tekst = \"123.32\"\n",
    "liczba = int(tekst)  # Próba konwersji tekstu na liczbę całkowitą"
   ]
  },
  {
   "cell_type": "code",
   "execution_count": null,
   "id": "c3145117",
   "metadata": {},
   "outputs": [
    {
     "name": "stdout",
     "output_type": "stream",
     "text": [
      "123.32\n",
      "<class 'float'>\n"
     ]
    }
   ],
   "source": [
    "# Tekst na liczbę - liczba zmiennoprzecinkowa\n",
    "\n",
    "tekst = \"123.32\"\n",
    "liczba = float(tekst)\n",
    "\n",
    "print(liczba)  # Wyświetlenie wartości liczby po konwersji\n",
    "print(type(liczba))  # Wyświetlenie typu zmiennej liczba"
   ]
  },
  {
   "cell_type": "code",
   "execution_count": null,
   "id": "443b41e3",
   "metadata": {},
   "outputs": [
    {
     "name": "stdout",
     "output_type": "stream",
     "text": [
      "123.32\n",
      "<class 'str'>\n"
     ]
    }
   ],
   "source": [
    "# Liczba na tekst\n",
    "\n",
    "liczba = 123.32\n",
    "tekst = str(liczba)  # Konwersja liczby na tekst\n",
    "print(tekst)  # Wyświetlenie wartości tekstu po konwersji\n",
    "print(type(tekst))  # Wyświetlenie typu zmiennej tekst"
   ]
  },
  {
   "cell_type": "markdown",
   "id": "83459ec2",
   "metadata": {},
   "source": [
    "# Pobieranie danych od użytkownika"
   ]
  },
  {
   "cell_type": "code",
   "execution_count": 9,
   "id": "ffe55fb2",
   "metadata": {},
   "outputs": [
    {
     "name": "stdout",
     "output_type": "stream",
     "text": [
      "To nie jest poprawna liczba całkowita!\n"
     ]
    }
   ],
   "source": [
    "odpowiedz = input(\"Podaj liczbę: \")  # Pobranie odpowiedzi od użytkownika\n",
    "\n",
    "try:\n",
    "    liczba = int(odpowiedz)  # Próba konwersji odpowiedzi na liczbę całkowitą\n",
    "    print(f\"Podana liczba to: {liczba}\")  # Wyświetlenie wartości liczby\n",
    "except ValueError:\n",
    "    print(\"To nie jest poprawna liczba całkowita!\")"
   ]
  }
 ],
 "metadata": {
  "kernelspec": {
   "display_name": "Python 3",
   "language": "python",
   "name": "python3"
  },
  "language_info": {
   "codemirror_mode": {
    "name": "ipython",
    "version": 3
   },
   "file_extension": ".py",
   "mimetype": "text/x-python",
   "name": "python",
   "nbconvert_exporter": "python",
   "pygments_lexer": "ipython3",
   "version": "3.13.3"
  }
 },
 "nbformat": 4,
 "nbformat_minor": 5
}
