{
 "cells": [
  {
   "cell_type": "markdown",
   "id": "45ff922b",
   "metadata": {},
   "source": [
    "# Listy"
   ]
  },
  {
   "cell_type": "markdown",
   "id": "c59b35e1",
   "metadata": {},
   "source": [
    "## Dlaczego listy? 🤔"
   ]
  },
  {
   "cell_type": "code",
   "execution_count": null,
   "id": "ab384f88",
   "metadata": {},
   "outputs": [],
   "source": [
    "# Oceny uczestnika\n",
    "\n",
    "ocena_nr_1 = 4\n",
    "ocena_nr_2 = 5\n",
    "ocena_nr_3 = 3\n",
    "ocena_nr_4 = 4.5\n",
    "ocena_nr_5 = 2\n",
    "ocena_nr_6 = 1\n",
    "ocena_nr_7 = 6\n",
    "ocena_nr_8 = 5"
   ]
  },
  {
   "cell_type": "code",
   "execution_count": null,
   "id": "3a4dc502",
   "metadata": {},
   "outputs": [],
   "source": [
    "# Można krócej\n",
    "\n",
    "oceny = [4, 5, 3, 4.5, 2, 1, 6, 5]"
   ]
  },
  {
   "cell_type": "markdown",
   "id": "c64949c8",
   "metadata": {},
   "source": [
    "## Jak stworzyć listę"
   ]
  },
  {
   "cell_type": "code",
   "execution_count": null,
   "id": "5263a50b",
   "metadata": {},
   "outputs": [],
   "source": [
    "moja_lista = [2, \"Napis\", 'litera', 2.5, -10.001, True, 'a', [\"Kolejna\", 0, \"Lista\"], 10, -2]"
   ]
  },
  {
   "cell_type": "code",
   "execution_count": null,
   "id": "02d27827",
   "metadata": {},
   "outputs": [],
   "source": [
    "moja_lista = [\n",
    "    2,\n",
    "    \"Napis\",\n",
    "    'litera',\n",
    "    2.5,\n",
    "    -10.001,\n",
    "    True,\n",
    "    'a',\n",
    "    [\"Kolejna\", 0, \"Lista\"],\n",
    "    10,\n",
    "    -2\n",
    "]"
   ]
  },
  {
   "cell_type": "code",
   "execution_count": null,
   "id": "cd19d864",
   "metadata": {},
   "outputs": [],
   "source": [
    "print(moja_lista)"
   ]
  },
  {
   "cell_type": "markdown",
   "id": "28a9b673",
   "metadata": {},
   "source": [
    "## Indeksy"
   ]
  },
  {
   "cell_type": "code",
   "execution_count": null,
   "id": "ad9df84a",
   "metadata": {},
   "outputs": [],
   "source": [
    "#        0  1  2  3    4  5  6  7\n",
    "oceny = [4, 5, 3, 4.5, 2, 1, 6, 5]"
   ]
  },
  {
   "cell_type": "code",
   "execution_count": null,
   "id": "b0fab889",
   "metadata": {},
   "outputs": [],
   "source": [
    "print(oceny[4])\n",
    "\n",
    "print(oceny[7])\n",
    "\n",
    "print(oceny[0])"
   ]
  },
  {
   "cell_type": "markdown",
   "id": "7737d623",
   "metadata": {},
   "source": [
    "## Zdradliwość indeksów - `out of range`"
   ]
  },
  {
   "cell_type": "code",
   "execution_count": null,
   "id": "95bba974",
   "metadata": {},
   "outputs": [],
   "source": [
    "oceny = [4, 5, 3, 4.5, 2, 1, 6, 5]\n",
    "print(\"Próbuję wyciągnąć 10.element z listy\")\n",
    "print(oceny[10])\n",
    "print(\"Udało się?\")"
   ]
  },
  {
   "cell_type": "markdown",
   "id": "e894e7f4",
   "metadata": {},
   "source": [
    "## Dodawanie elementów do listy - `append`"
   ]
  },
  {
   "cell_type": "code",
   "execution_count": null,
   "id": "cd383e57",
   "metadata": {},
   "outputs": [],
   "source": [
    "# Obliczanie średniej z ocen\n",
    "# Litera `q` powinna kończyć program\n",
    "\n",
    "oceny = []\n",
    "\n",
    "while True:\n",
    "    # TODO\n",
    "    pass"
   ]
  },
  {
   "cell_type": "markdown",
   "id": "53c80b4c",
   "metadata": {},
   "source": [
    "## Inne metody działań na listach\n",
    "\n",
    "- [array - Dokumentacja Python'a](https://docs.python.org/3/library/array.html)\n",
    "- [Python List/Array Methods - W3Schools](https://www.w3schools.com/python/python_ref_list.asp)"
   ]
  },
  {
   "cell_type": "code",
   "execution_count": null,
   "id": "538e388a",
   "metadata": {},
   "outputs": [],
   "source": [
    "# count(szukany_element) - zlicza elementy w liście\n",
    "\n",
    "moja_lista = [2, 67, 213, 23455, 23, 222, 7543, 10, 213, 123]\n",
    "\n",
    "print(moja_lista.count(213))  # 2\n"
   ]
  },
  {
   "cell_type": "code",
   "execution_count": null,
   "id": "a604bb3f",
   "metadata": {},
   "outputs": [],
   "source": [
    "# clear() - usuwa wszystkie elementy z listy\n",
    "\n",
    "print(moja_lista)\n",
    "moja_lista.clear()\n",
    "print(moja_lista)  # []"
   ]
  },
  {
   "cell_type": "markdown",
   "id": "072689a1",
   "metadata": {},
   "source": [
    "## Zakresy indeksów"
   ]
  },
  {
   "cell_type": "code",
   "execution_count": null,
   "id": "27001935",
   "metadata": {},
   "outputs": [],
   "source": [
    "# Indeksy:0 1 2 3 4 5 6 7 8 9 10 11 12 13 14\n",
    "liczby = [9, 1, 0, 2, 0, 3, 4, 5, 10, -1, 20, 32, -20, -3, -4]\n",
    "\n",
    "# Zakres <start; stop) -> <2; 8) -> indeksy 2, 3, 4, 5, 6, 7\n",
    "nowa_lista = liczby[2: 8]\n",
    "print(nowa_lista)"
   ]
  },
  {
   "cell_type": "code",
   "execution_count": null,
   "id": "07171137",
   "metadata": {},
   "outputs": [],
   "source": [
    "nowa_lista = liczby[10: 3] # Nie ma liczby większej lub równej od 10 i jednocześnie mniejszej od 3"
   ]
  },
  {
   "cell_type": "markdown",
   "id": "e0aaa0bf",
   "metadata": {},
   "source": [
    "## Ujemne indeksy"
   ]
  },
  {
   "cell_type": "code",
   "execution_count": null,
   "id": "96cca413",
   "metadata": {},
   "outputs": [],
   "source": [
    "# Indeksy: 0 1 2 3 4 5 6 7 8 9 10 11 12 13 14\n",
    "# Indeksy: -15 -14 -13 -12 -11 -10 -9 -8 -7 -6 -5 -4 -3 -2 -1\n",
    "liczby = [9, 1, 0, 2, 0, 3, 4, 5, 10, -1, 20, 32, -20, -3, -4]\n",
    "\n",
    "nowa_lista = liczby[-13: -5]\n",
    "print(nowa_lista)\n",
    "nowa_lista = liczby[2: 10]\n",
    "print(nowa_lista)"
   ]
  },
  {
   "cell_type": "markdown",
   "id": "ff503e17",
   "metadata": {},
   "source": [
    "## Zakres od początku lub od końca"
   ]
  },
  {
   "cell_type": "code",
   "execution_count": null,
   "id": "44a74aaa",
   "metadata": {},
   "outputs": [],
   "source": [
    "liczby = [9, 1, 0, 2, 0, 3, 4, 5, 10, -1, 20, 32, -20, -3, -4]\n",
    "\n",
    "nowa_lista_od_poczatku = liczby[:10]\n",
    "nowa_lista_do_konca = liczby[5:]\n",
    "print(nowa_lista_od_poczatku)\n",
    "print(nowa_lista_do_konca)"
   ]
  },
  {
   "cell_type": "markdown",
   "id": "db8b1a61",
   "metadata": {},
   "source": [
    "## Tworzenie list ze zmiennych"
   ]
  },
  {
   "cell_type": "code",
   "execution_count": null,
   "id": "33e690ff",
   "metadata": {},
   "outputs": [],
   "source": [
    "a = 10\n",
    "b = 7\n",
    "liczby = [a, b, 20]"
   ]
  },
  {
   "cell_type": "markdown",
   "id": "ec84d87e",
   "metadata": {},
   "source": [
    "## Odczytywanie wartości z listy - unpacking"
   ]
  },
  {
   "cell_type": "code",
   "execution_count": null,
   "id": "b5747949",
   "metadata": {},
   "outputs": [],
   "source": [
    "oceny_z_3_sprawdzianow = [5, 4.5, 3]\n",
    "ocena1, ocena2, ocena3 = oceny_z_3_sprawdzianow"
   ]
  },
  {
   "cell_type": "code",
   "execution_count": null,
   "id": "b5e38c8a",
   "metadata": {},
   "outputs": [],
   "source": [
    "wszystkie_oceny = [3, 5, 6, 5, 4, 5, 5, 4, 3, 4, 5, 2]\n",
    "ocena1, ocena2 = wszystkie_oceny"
   ]
  },
  {
   "cell_type": "code",
   "execution_count": null,
   "id": "303f6c12",
   "metadata": {},
   "outputs": [],
   "source": [
    "wszystkie_oceny = [3, 5, 6, 5, 4, 5, 5, 4, 3, 4, 5, 2]\n",
    "ocena1, ocena2 = wszystkie_oceny[:2]"
   ]
  },
  {
   "cell_type": "markdown",
   "id": "7a5a4793",
   "metadata": {},
   "source": [
    "## Jak sprawdzić czy element znajduje/nie znajduje się w liście? - `in`"
   ]
  },
  {
   "cell_type": "code",
   "execution_count": null,
   "id": "41800832",
   "metadata": {},
   "outputs": [],
   "source": [
    "liczby = [5, 6, -7, 5.23, 0.1]\n",
    "\n",
    "if 2 in liczby:\n",
    "    # Kod wykonywany, jeśli dwójka znajduje się w liście\n",
    "    pass\n",
    "\n",
    "if 5 not in liczby:\n",
    "    # Kod wykonywany, jeśli piątka nie znajduje się w liście\n",
    "    pass"
   ]
  },
  {
   "cell_type": "markdown",
   "id": "ed7a6741",
   "metadata": {},
   "source": [
    "## `string` - ponowne spojrzenie"
   ]
  },
  {
   "cell_type": "code",
   "execution_count": null,
   "id": "9cb022f9",
   "metadata": {},
   "outputs": [],
   "source": [
    "slowa = ['Ala', 'ma', 'kota']\n",
    "tekst = ' '.join(slowa)\n",
    "print(tekst)"
   ]
  },
  {
   "cell_type": "code",
   "execution_count": null,
   "id": "94b4f4b1",
   "metadata": {},
   "outputs": [],
   "source": [
    "imiona = ['Tomek', 'Ola', 'Zuzia', 'Paweł']\n",
    "tekst = ', '.join(imiona)\n",
    "print(tekst)"
   ]
  },
  {
   "cell_type": "code",
   "execution_count": null,
   "id": "43fa1007",
   "metadata": {},
   "outputs": [],
   "source": [
    "# Iterowanie po napisach\n",
    "\n",
    "napis = \"Ciąg różnych znaków!\"\n",
    "for c in napis:\n",
    "    print(c, end='.')"
   ]
  }
 ],
 "metadata": {
  "kernelspec": {
   "display_name": "Python 3",
   "language": "python",
   "name": "python3"
  },
  "language_info": {
   "codemirror_mode": {
    "name": "ipython",
    "version": 3
   },
   "file_extension": ".py",
   "mimetype": "text/x-python",
   "name": "python",
   "nbconvert_exporter": "python",
   "pygments_lexer": "ipython3",
   "version": "3.12.1"
  }
 },
 "nbformat": 4,
 "nbformat_minor": 5
}
