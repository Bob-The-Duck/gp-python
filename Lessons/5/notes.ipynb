{
 "cells": [
  {
   "cell_type": "markdown",
   "id": "44e754e9",
   "metadata": {},
   "source": [
    "# Instrukcje warunkowe 1/2"
   ]
  },
  {
   "cell_type": "markdown",
   "id": "75383e68",
   "metadata": {},
   "source": [
    "# if"
   ]
  },
  {
   "cell_type": "code",
   "execution_count": null,
   "id": "d75126af",
   "metadata": {},
   "outputs": [],
   "source": [
    "warunek = True\n",
    "\n",
    "if warunek:\n",
    "    print(\"Warunek był prawdziwy :)\")"
   ]
  },
  {
   "cell_type": "code",
   "execution_count": null,
   "id": "54f758e0",
   "metadata": {},
   "outputs": [
    {
     "name": "stdout",
     "output_type": "stream",
     "text": [
      "Wykonam się za każdym razem\n",
      "Wykonam się za każdym razem, brak wcięcia\n"
     ]
    }
   ],
   "source": [
    "print(\"Wykonam się za każdym razem\")\n",
    "wartosc_logiczna = True\n",
    "\n",
    "if wartosc_logiczna:\n",
    "    print(\"Wykonam się, jeśli warunek będzie prawdziwy\")\n",
    "    print(\"Mogę dodać wiele linijek kodu\")\n",
    "\n",
    "print(\"Wykonam się za każdym razem, brak wcięcia\")"
   ]
  },
  {
   "cell_type": "markdown",
   "id": "45ee9035",
   "metadata": {},
   "source": [
    "# if else"
   ]
  },
  {
   "cell_type": "code",
   "execution_count": null,
   "id": "9dfc7d92",
   "metadata": {},
   "outputs": [],
   "source": [
    "if warunek:\n",
    "    # Nasz kod jest wykonywany, jeśli warunek jest prawdziwy\n",
    "    pass\n",
    "else:\n",
    "    # Nasz kod jest wykonywany, jeśli poprzednie warunki nie zostały spełnione.\n",
    "    pass"
   ]
  },
  {
   "cell_type": "code",
   "execution_count": 7,
   "id": "0da80b8c",
   "metadata": {},
   "outputs": [
    {
     "name": "stdout",
     "output_type": "stream",
     "text": [
      "Wykonam się, jeśli warunek będzie fałszywy\n",
      "Mogę dodać wiele linijek kodu\n"
     ]
    }
   ],
   "source": [
    "warunek = False\n",
    "\n",
    "if warunek:\n",
    "    print(\"Wykonam się, jeśli warunek będzie prawdziwy\")\n",
    "else:\n",
    "    print(\"Wykonam się, jeśli warunek będzie fałszywy\")\n",
    "    print(\"Mogę dodać wiele linijek kodu\")"
   ]
  },
  {
   "cell_type": "markdown",
   "id": "23a2d6ec",
   "metadata": {},
   "source": [
    "# if elif else"
   ]
  },
  {
   "cell_type": "code",
   "execution_count": 8,
   "id": "89322509",
   "metadata": {},
   "outputs": [],
   "source": [
    "warunek = False\n",
    "warunek2 = False\n",
    "\n",
    "if warunek:\n",
    "    # Nasz kod wykonywany, jeśli warunek jest prawdziwy\n",
    "    pass\n",
    "elif warunek2:\n",
    "    # Kod wykonywany tylko wtedy jeśli poprzednie warunki nie zostały spełnione\n",
    "    # oraz warunek2 został spełniony\n",
    "    pass\n",
    "else:\n",
    "    # Kod wykonywany, jeśli poprzednie warunki nie zostały spełnione.\n",
    "    pass"
   ]
  },
  {
   "cell_type": "code",
   "execution_count": null,
   "id": "59bbaf1e",
   "metadata": {},
   "outputs": [
    {
     "name": "stdout",
     "output_type": "stream",
     "text": [
      "else\n"
     ]
    }
   ],
   "source": [
    "warunek = False\n",
    "warunek2 = True\n",
    "\n",
    "if warunek:\n",
    "    print(\"if\")\n",
    "elif warunek2:\n",
    "    print(\"elif\")\n",
    "else:\n",
    "    print(\"else\")"
   ]
  },
  {
   "cell_type": "markdown",
   "id": "05cce661",
   "metadata": {},
   "source": [
    "# match case"
   ]
  },
  {
   "cell_type": "code",
   "execution_count": null,
   "id": "370ce18e",
   "metadata": {},
   "outputs": [],
   "source": [
    "a = 10\n",
    "b = 20\n",
    "\n",
    "dzialanie = '-'\n",
    "\n",
    "match dzialanie:\n",
    "    case '+':\n",
    "        print(f\"a + b = {a + b}\")\n",
    "    case \"-\":\n",
    "        print(f\"a - b = {a - b}\")\n",
    "    case '*':\n",
    "        print(f\"a * b = {a * b}\")\n",
    "    case '/':\n",
    "        if b != 0:\n",
    "            print(f\"a / b = {a / b}\")\n",
    "        else:\n",
    "            print(\"Nie można dzielić przez zero!\")\n",
    "    case _:\n",
    "        print(\"Nieznane działanie\")"
   ]
  }
 ],
 "metadata": {
  "kernelspec": {
   "display_name": "Python 3",
   "language": "python",
   "name": "python3"
  },
  "language_info": {
   "codemirror_mode": {
    "name": "ipython",
    "version": 3
   },
   "file_extension": ".py",
   "mimetype": "text/x-python",
   "name": "python",
   "nbconvert_exporter": "python",
   "pygments_lexer": "ipython3",
   "version": "3.13.3"
  }
 },
 "nbformat": 4,
 "nbformat_minor": 5
}
