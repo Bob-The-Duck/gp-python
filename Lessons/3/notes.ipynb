{
 "cells": [
  {
   "cell_type": "markdown",
   "id": "1ac3a3ca",
   "metadata": {},
   "source": [
    "# Pobieranie wartości od użytkownika"
   ]
  },
  {
   "cell_type": "code",
   "execution_count": null,
   "id": "b4af99af",
   "metadata": {},
   "outputs": [],
   "source": [
    "x = input()\n",
    "\n",
    "imie = input('Podaj swoje imię: ')"
   ]
  },
  {
   "cell_type": "code",
   "execution_count": null,
   "id": "c03236b4",
   "metadata": {},
   "outputs": [],
   "source": [
    "wiek = input('Podaj swój wiek: ')\n",
    "print(type(wiek))"
   ]
  },
  {
   "cell_type": "code",
   "execution_count": null,
   "id": "a96f39d0",
   "metadata": {},
   "outputs": [],
   "source": [
    "wiek = int(input('Podaj swój wiek: '))\n",
    "print(type(wiek))"
   ]
  },
  {
   "cell_type": "markdown",
   "id": "eb964ce9",
   "metadata": {},
   "source": [
    "# Operacje matematyczne"
   ]
  },
  {
   "cell_type": "code",
   "execution_count": null,
   "id": "8a250372",
   "metadata": {},
   "outputs": [],
   "source": [
    "# Dane\n",
    "a = 10\n",
    "b = 7\n",
    "\n",
    "# Operatory arytmetyczne\n",
    "\n",
    "# Jednoargumentowe\n",
    "print(+a)\n",
    "print(-a)\n",
    "\n",
    "# Dwaargumentowe\n",
    "print(a + b)\n",
    "print(a - b)\n",
    "print(a * b)\n",
    "print(a / b)\n",
    "print(a % b) # Modulo\n",
    "print(a // b) # Dzielenie całkowite\n",
    "print(3 ** 2) # Potęgowanie"
   ]
  },
  {
   "cell_type": "code",
   "execution_count": null,
   "id": "13296d2c",
   "metadata": {},
   "outputs": [],
   "source": [
    "# Typy wyników\n",
    "\n",
    "print(type(10 + 1))\n",
    "print(type(10 * 1))\n",
    "print(type(10 / 1))"
   ]
  },
  {
   "cell_type": "code",
   "execution_count": null,
   "id": "63576e30",
   "metadata": {},
   "outputs": [],
   "source": [
    "# Operatory przypisania - assignment operators\n",
    "\n",
    "a = 10\n",
    "b = 7\n",
    "a += b # a = a + b\n",
    "print(a)\n",
    "\n",
    "a = 10\n",
    "b = 7\n",
    "a -= b # a = a - b\n",
    "print(a)\n",
    "\n",
    "a = 10\n",
    "b = 7\n",
    "a *= b # a = a * b\n",
    "print(a)\n",
    "\n",
    "a = 10\n",
    "b = 7\n",
    "a /= b # a = a / b\n",
    "print(a)\n",
    "\n",
    "a = 10\n",
    "b = 7\n",
    "a %= b # a = a % b\n",
    "print(a)\n",
    "\n",
    "a = 10\n",
    "b = 7\n",
    "a //= b # a = a // b\n",
    "print(a)\n",
    "\n",
    "a = 10\n",
    "b = 7\n",
    "a **= b # a = a ** b\n",
    "print(a)"
   ]
  },
  {
   "cell_type": "code",
   "execution_count": null,
   "id": "158152e8",
   "metadata": {},
   "outputs": [],
   "source": [
    "# Działania artymetyczne na zmiennych logicznych\n",
    "\n",
    "print(True + True)\n",
    "print(False + True)\n",
    "print(False + False)\n",
    "print(3*True)"
   ]
  },
  {
   "cell_type": "code",
   "execution_count": null,
   "id": "a01d81eb",
   "metadata": {},
   "outputs": [],
   "source": [
    "# Działania artymetyczne na zmiennych tekstowych\n",
    "\n",
    "print(\"Witaj \" + \"Gigancie\")\n",
    "print(\"Gigancie\" + \"Witaj \")\n",
    "\n",
    "print(\"Gigancie\" * 3)\n",
    "\n",
    "print(\"Gigancie\" * 0)\n",
    "print(\"Gigancie\" * -1)\n",
    "\n",
    "print(3 * \"Gigancie\")\n",
    "\n",
    "tekst = \"Hello\"\n",
    "tekst += \" World\"\n",
    "print(tekst)"
   ]
  },
  {
   "cell_type": "code",
   "execution_count": null,
   "id": "4820e88a",
   "metadata": {},
   "outputs": [],
   "source": [
    "n = 10\n",
    "m = 25\n",
    "\n",
    "print('Wynik mnożenia', n, 'przez', m, 'to', n*m)\n",
    "\n",
    "print(f'Wynik dodawania {n} i {m} to {n+m}')"
   ]
  },
  {
   "cell_type": "markdown",
   "id": "cdad5a0a",
   "metadata": {},
   "source": [
    "# Funkcje wbudowane"
   ]
  },
  {
   "cell_type": "code",
   "execution_count": null,
   "id": "c7fb1de3",
   "metadata": {},
   "outputs": [],
   "source": [
    "# Matematyczne\n",
    "\n",
    "print(abs(-10))\n",
    "\n",
    "print(max(1, 2, 3, 2, 8, -5))\n",
    "print(min(1, 2, 3, 2, 8, -5))\n",
    "\n",
    "print(round(3.5644)) "
   ]
  },
  {
   "cell_type": "code",
   "execution_count": null,
   "id": "3c2cbee0",
   "metadata": {},
   "outputs": [],
   "source": [
    "# Iterowalne\n",
    "print(len('Hello World!'))"
   ]
  }
 ],
 "metadata": {
  "kernelspec": {
   "display_name": "Python 3",
   "language": "python",
   "name": "python3"
  },
  "language_info": {
   "codemirror_mode": {
    "name": "ipython",
    "version": 3
   },
   "file_extension": ".py",
   "mimetype": "text/x-python",
   "name": "python",
   "nbconvert_exporter": "python",
   "pygments_lexer": "ipython3",
   "version": "3.12.1"
  }
 },
 "nbformat": 4,
 "nbformat_minor": 5
}
