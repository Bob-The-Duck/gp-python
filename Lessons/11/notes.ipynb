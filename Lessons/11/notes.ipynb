{
 "cells": [
  {
   "cell_type": "markdown",
   "id": "b44427b8",
   "metadata": {},
   "source": [
    "# Funkcje 2/2"
   ]
  },
  {
   "cell_type": "markdown",
   "id": "144bbb64",
   "metadata": {},
   "source": [
    "## Type hinting, czyli podpowiadanie typów"
   ]
  },
  {
   "cell_type": "code",
   "execution_count": 1,
   "id": "cf68d223",
   "metadata": {},
   "outputs": [],
   "source": [
    "def prostokat(a: float, b: float):\n",
    "    obwod = 2*a + 2*b\n",
    "    return obwod"
   ]
  },
  {
   "cell_type": "code",
   "execution_count": 2,
   "id": "6eef45c7",
   "metadata": {},
   "outputs": [],
   "source": [
    "# Miejsce na testy"
   ]
  },
  {
   "cell_type": "code",
   "execution_count": 3,
   "id": "625e082a",
   "metadata": {},
   "outputs": [],
   "source": [
    "def prostokat(a: float, b: float) -> float:\n",
    "    obwod = 2*a + 2*b\n",
    "    return obwod"
   ]
  },
  {
   "cell_type": "code",
   "execution_count": 4,
   "id": "b6087307",
   "metadata": {},
   "outputs": [],
   "source": [
    "# Miejsce na testy"
   ]
  }
 ],
 "metadata": {
  "kernelspec": {
   "display_name": "Python 3",
   "language": "python",
   "name": "python3"
  },
  "language_info": {
   "codemirror_mode": {
    "name": "ipython",
    "version": 3
   },
   "file_extension": ".py",
   "mimetype": "text/x-python",
   "name": "python",
   "nbconvert_exporter": "python",
   "pygments_lexer": "ipython3",
   "version": "3.13.4"
  }
 },
 "nbformat": 4,
 "nbformat_minor": 5
}
