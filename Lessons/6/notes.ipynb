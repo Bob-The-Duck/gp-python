{
 "cells": [
  {
   "cell_type": "markdown",
   "id": "1f03c588",
   "metadata": {},
   "source": [
    "# Instrukcje warunkowe 2/2"
   ]
  },
  {
   "cell_type": "markdown",
   "id": "e9cbeaf7",
   "metadata": {},
   "source": [
    "## Powtórzenie wiadomości"
   ]
  },
  {
   "cell_type": "code",
   "execution_count": null,
   "id": "4d8034d4",
   "metadata": {},
   "outputs": [],
   "source": [
    "print(False and True)\n",
    "print(True or False)\n",
    "print(not False)\n"
   ]
  },
  {
   "cell_type": "markdown",
   "id": "e1847f5a",
   "metadata": {},
   "source": [
    "## Warunki złożone"
   ]
  },
  {
   "cell_type": "code",
   "execution_count": null,
   "id": "0b980d60",
   "metadata": {},
   "outputs": [],
   "source": [
    "# Prosty warunek\n",
    "\n",
    "wyraz = input(\"Podaj wyraz: \")\n",
    "\n",
    "if len(wyraz) > 5:\n",
    "    print(\"Wyraz jest dłuższy niż 5 znaków\")\n",
    "else:\n",
    "    print(\"Wyraz jest krótszy lub równy 5 znakom\")"
   ]
  },
  {
   "cell_type": "code",
   "execution_count": null,
   "id": "d5cc8613",
   "metadata": {},
   "outputs": [],
   "source": [
    "# Wykonanie misji w grze\n",
    "\n",
    "cel_1 = True\n",
    "cel_2 = False\n",
    "cel_3 = True\n",
    "\n",
    "if cel_1 and cel_2 and cel_3:\n",
    "    print(\"Misja wykonana!\")"
   ]
  },
  {
   "cell_type": "code",
   "execution_count": null,
   "id": "aab39111",
   "metadata": {},
   "outputs": [],
   "source": [
    "# Misja - zebranie przedmiotów\n",
    "\n",
    "honey = 5\n",
    "sticks = 3\n",
    "rocks = 11\n",
    "\n",
    "if honey >= 5 and sticks >= 8 and rocks >= 5:\n",
    "    print(\"Zadanie wykonane!\")"
   ]
  },
  {
   "cell_type": "code",
   "execution_count": null,
   "id": "c0fafdf7",
   "metadata": {},
   "outputs": [],
   "source": [
    "if honey >= 5:\n",
    "    if sticks >= 8:\n",
    "        if rocks >= 5:\n",
    "            print(\"Zadanie wykonane!\")"
   ]
  },
  {
   "cell_type": "code",
   "execution_count": null,
   "id": "bc20ca5f",
   "metadata": {},
   "outputs": [],
   "source": [
    "print(True and True or False)\n",
    "print(False and False or True and True)\n",
    "print(False and (False or True) and True)"
   ]
  },
  {
   "cell_type": "markdown",
   "id": "6e8ad006",
   "metadata": {},
   "source": [
    "# Operator \"in\""
   ]
  },
  {
   "cell_type": "code",
   "execution_count": null,
   "id": "a550fa36",
   "metadata": {},
   "outputs": [],
   "source": [
    "sample_sentence = \"Python jest super!\"\n",
    "\n",
    "if \"Python\" in sample_sentence and \"super\" in sample_sentence:\n",
    "    print(\"Zdanie zawiera oba słowa kluczowe.\")\n"
   ]
  },
  {
   "cell_type": "markdown",
   "id": "f8e1ea24",
   "metadata": {},
   "source": [
    "## Instrukcje zagnieżdżone"
   ]
  },
  {
   "cell_type": "code",
   "execution_count": null,
   "id": "7c55aac0",
   "metadata": {},
   "outputs": [],
   "source": [
    "warunek_1 = True\n",
    "warunek_2 = False\n",
    "warunek_3 = False\n",
    "\n",
    "if warunek_1:\n",
    "    if warunek_2:\n",
    "        # Kod wykonywany tylko wtedy jeśli warunek_1==True and warunek_2==True\n",
    "        pass\n",
    "    elif warunek_3:\n",
    "        # Kod wykonywany tylko wtedy jeśli warunek_1==True and warunek_3==True\n",
    "        pass\n",
    "    else:\n",
    "        # Kod wykonywany tylko wtedy jeśli warunek_1==True, a pozostałe warunki są False\n",
    "        pass\n",
    "else:\n",
    "    # Kod wykonywany tylko wtedy jeśli warunek_1==False\n",
    "    pass"
   ]
  }
 ],
 "metadata": {
  "kernelspec": {
   "display_name": "Python 3",
   "language": "python",
   "name": "python3"
  },
  "language_info": {
   "codemirror_mode": {
    "name": "ipython",
    "version": 3
   },
   "file_extension": ".py",
   "mimetype": "text/x-python",
   "name": "python",
   "nbconvert_exporter": "python",
   "pygments_lexer": "ipython3",
   "version": "3.12.1"
  }
 },
 "nbformat": 4,
 "nbformat_minor": 5
}
