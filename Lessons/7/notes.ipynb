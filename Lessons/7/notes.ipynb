{
 "cells": [
  {
   "cell_type": "markdown",
   "id": "03ee52ed",
   "metadata": {},
   "source": [
    "# Pętle 1/2"
   ]
  },
  {
   "cell_type": "markdown",
   "id": "c67d14fd",
   "metadata": {},
   "source": [
    "## Pętla `while`"
   ]
  },
  {
   "cell_type": "code",
   "execution_count": null,
   "id": "4f79f6fc",
   "metadata": {},
   "outputs": [],
   "source": [
    "WARUNEK = False\n",
    "\n",
    "while WARUNEK:\n",
    "    pass"
   ]
  },
  {
   "cell_type": "code",
   "execution_count": null,
   "id": "a552464a",
   "metadata": {},
   "outputs": [],
   "source": [
    "licznik = 0\n",
    "\n",
    "while licznik < 10:\n",
    "    print(f\"Cześć Gigancie! x{licznik}\")\n",
    "    licznik += 1"
   ]
  },
  {
   "cell_type": "markdown",
   "id": "c7e4a20f",
   "metadata": {},
   "source": [
    "## Pętla nieskończona - `break` i `continue`"
   ]
  },
  {
   "cell_type": "code",
   "execution_count": null,
   "id": "1d8e64c8",
   "metadata": {},
   "outputs": [],
   "source": [
    "import time\n",
    "\n",
    "while True:\n",
    "    print(\"You can't stop me now!\")\n",
    "    time.sleep(1)"
   ]
  },
  {
   "cell_type": "code",
   "execution_count": null,
   "id": "411caf37",
   "metadata": {},
   "outputs": [],
   "source": [
    "while True:\n",
    "    print(\"You can't stop me now!\")\n",
    "    time.sleep(1)\n",
    "    break\n",
    "\n",
    "print(\"Haa! Maybe I - the programmer - can!\")"
   ]
  },
  {
   "cell_type": "code",
   "execution_count": null,
   "id": "db3ec123",
   "metadata": {},
   "outputs": [],
   "source": [
    "# Testy `break`"
   ]
  },
  {
   "cell_type": "code",
   "execution_count": null,
   "id": "5e19e8f6",
   "metadata": {},
   "outputs": [],
   "source": [
    "PIN = \"1234\"\n",
    "ROK_URODZENIA = \"1998\"\n",
    "HASLO = \"qwerty\"\n",
    "\n",
    "while True:\n",
    "    input_pin = input(\"PIN: \")\n",
    "    if input_pin != PIN:\n",
    "        print(\"Odmowa dostępu!\")\n",
    "        continue\n",
    "\n",
    "    input_rok_urodzenia = input(\"Rok urodzenia: \")\n",
    "    if input_rok_urodzenia != ROK_URODZENIA:\n",
    "        print(\"Odmowa dostępu! Zaloguj się ponownie\")\n",
    "        continue\n",
    "\n",
    "    input_haslo = input(\"Hasło: \")\n",
    "    if input_haslo != HASLO:\n",
    "        print(\"Odmowa dostępu! Zaloguj się ponownie\")\n",
    "        continue\n",
    "    \n",
    "    print(\"Zalogowano poprawnie!\")\n",
    "    break\n",
    "\n",
    "print(\"Super tajne treści znajdują się tutaj\")"
   ]
  }
 ],
 "metadata": {
  "kernelspec": {
   "display_name": "Python 3",
   "language": "python",
   "name": "python3"
  },
  "language_info": {
   "codemirror_mode": {
    "name": "ipython",
    "version": 3
   },
   "file_extension": ".py",
   "mimetype": "text/x-python",
   "name": "python",
   "nbconvert_exporter": "python",
   "pygments_lexer": "ipython3",
   "version": "3.13.3"
  }
 },
 "nbformat": 4,
 "nbformat_minor": 5
}
